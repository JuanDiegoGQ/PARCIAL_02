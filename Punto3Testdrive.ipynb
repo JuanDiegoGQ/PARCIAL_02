{
  "nbformat": 4,
  "nbformat_minor": 0,
  "metadata": {
    "colab": {
      "provenance": [],
      "include_colab_link": true
    },
    "kernelspec": {
      "name": "python3",
      "display_name": "Python 3"
    },
    "language_info": {
      "name": "python"
    }
  },
  "cells": [
    {
      "cell_type": "markdown",
      "metadata": {
        "id": "view-in-github",
        "colab_type": "text"
      },
      "source": [
        "<a href=\"https://colab.research.google.com/github/JuanDiegoGQ/PARCIAL_02/blob/main/Punto3Testdrive.ipynb\" target=\"_parent\"><img src=\"https://colab.research.google.com/assets/colab-badge.svg\" alt=\"Open In Colab\"/></a>"
      ]
    },
    {
      "cell_type": "code",
      "source": [
        "!pip install soundfile\n",
        "!pip install streamlit -q #instalación de librerías\n",
        "!npm install localtunnel"
      ],
      "metadata": {
        "colab": {
          "base_uri": "https://localhost:8080/"
        },
        "id": "MFLXz49Y8Wqk",
        "outputId": "b9043e36-87ae-44b8-8afb-d3d0d5cf5da6"
      },
      "execution_count": null,
      "outputs": [
        {
          "output_type": "stream",
          "name": "stdout",
          "text": [
            "Requirement already satisfied: soundfile in /usr/local/lib/python3.10/dist-packages (0.12.1)\n",
            "Requirement already satisfied: cffi>=1.0 in /usr/local/lib/python3.10/dist-packages (from soundfile) (1.17.0)\n",
            "Requirement already satisfied: pycparser in /usr/local/lib/python3.10/dist-packages (from cffi>=1.0->soundfile) (2.22)\n",
            "\u001b[2K   \u001b[90m━━━━━━━━━━━━━━━━━━━━━━━━━━━━━━━━━━━━━━━━\u001b[0m \u001b[32m8.7/8.7 MB\u001b[0m \u001b[31m32.2 MB/s\u001b[0m eta \u001b[36m0:00:00\u001b[0m\n",
            "\u001b[2K   \u001b[90m━━━━━━━━━━━━━━━━━━━━━━━━━━━━━━━━━━━━━━━━\u001b[0m \u001b[32m207.3/207.3 kB\u001b[0m \u001b[31m13.7 MB/s\u001b[0m eta \u001b[36m0:00:00\u001b[0m\n",
            "\u001b[2K   \u001b[90m━━━━━━━━━━━━━━━━━━━━━━━━━━━━━━━━━━━━━━━━\u001b[0m \u001b[32m6.9/6.9 MB\u001b[0m \u001b[31m64.0 MB/s\u001b[0m eta \u001b[36m0:00:00\u001b[0m\n",
            "\u001b[2K   \u001b[90m━━━━━━━━━━━━━━━━━━━━━━━━━━━━━━━━━━━━━━━━\u001b[0m \u001b[32m82.9/82.9 kB\u001b[0m \u001b[31m5.8 MB/s\u001b[0m eta \u001b[36m0:00:00\u001b[0m\n",
            "\u001b[2K   \u001b[90m━━━━━━━━━━━━━━━━━━━━━━━━━━━━━━━━━━━━━━━━\u001b[0m \u001b[32m62.7/62.7 kB\u001b[0m \u001b[31m4.1 MB/s\u001b[0m eta \u001b[36m0:00:00\u001b[0m\n",
            "\u001b[K\u001b[?25h\n",
            "added 22 packages, and audited 23 packages in 2s\n",
            "\n",
            "3 packages are looking for funding\n",
            "  run `npm fund` for details\n",
            "\n",
            "2 \u001b[33m\u001b[1mmoderate\u001b[22m\u001b[39m severity vulnerabilities\n",
            "\n",
            "To address all issues, run:\n",
            "  npm audit fix\n",
            "\n",
            "Run `npm audit` for details.\n"
          ]
        }
      ]
    },
    {
      "cell_type": "code",
      "source": [
        "!python3 -m pip install --force-reinstall https://github.com/yt-dlp/yt-dlp/archive/master.tar.gz"
      ],
      "metadata": {
        "colab": {
          "base_uri": "https://localhost:8080/"
        },
        "id": "rb86SByP9V2E",
        "outputId": "9a041732-7f26-4523-f25e-9a933d4491d0"
      },
      "execution_count": null,
      "outputs": [
        {
          "output_type": "stream",
          "name": "stdout",
          "text": [
            "Collecting https://github.com/yt-dlp/yt-dlp/archive/master.tar.gz\n",
            "  Downloading https://github.com/yt-dlp/yt-dlp/archive/master.tar.gz\n",
            "\u001b[2K     \u001b[32m-\u001b[0m \u001b[32m2.7 MB\u001b[0m \u001b[31m8.8 MB/s\u001b[0m \u001b[33m0:00:00\u001b[0m\n",
            "\u001b[?25h  Installing build dependencies ... \u001b[?25l\u001b[?25hdone\n",
            "  Getting requirements to build wheel ... \u001b[?25l\u001b[?25hdone\n",
            "  Preparing metadata (pyproject.toml) ... \u001b[?25l\u001b[?25hdone\n",
            "Collecting brotli (from yt-dlp==2024.8.6)\n",
            "  Downloading Brotli-1.1.0-cp310-cp310-manylinux_2_5_x86_64.manylinux1_x86_64.manylinux_2_12_x86_64.manylinux2010_x86_64.whl.metadata (5.5 kB)\n",
            "Collecting certifi (from yt-dlp==2024.8.6)\n",
            "  Using cached certifi-2024.8.30-py3-none-any.whl.metadata (2.2 kB)\n",
            "Collecting mutagen (from yt-dlp==2024.8.6)\n",
            "  Downloading mutagen-1.47.0-py3-none-any.whl.metadata (1.7 kB)\n",
            "Collecting pycryptodomex (from yt-dlp==2024.8.6)\n",
            "  Downloading pycryptodomex-3.20.0-cp35-abi3-manylinux_2_17_x86_64.manylinux2014_x86_64.whl.metadata (3.4 kB)\n",
            "Collecting requests<3,>=2.32.2 (from yt-dlp==2024.8.6)\n",
            "  Using cached requests-2.32.3-py3-none-any.whl.metadata (4.6 kB)\n",
            "Collecting urllib3<3,>=1.26.17 (from yt-dlp==2024.8.6)\n",
            "  Downloading urllib3-2.2.2-py3-none-any.whl.metadata (6.4 kB)\n",
            "Collecting websockets>=13.0 (from yt-dlp==2024.8.6)\n",
            "  Downloading websockets-13.0.1-cp310-cp310-manylinux_2_5_x86_64.manylinux1_x86_64.manylinux_2_17_x86_64.manylinux2014_x86_64.whl.metadata (6.7 kB)\n",
            "Collecting charset-normalizer<4,>=2 (from requests<3,>=2.32.2->yt-dlp==2024.8.6)\n",
            "  Using cached charset_normalizer-3.3.2-cp310-cp310-manylinux_2_17_x86_64.manylinux2014_x86_64.whl.metadata (33 kB)\n",
            "Collecting idna<4,>=2.5 (from requests<3,>=2.32.2->yt-dlp==2024.8.6)\n",
            "  Using cached idna-3.8-py3-none-any.whl.metadata (9.9 kB)\n",
            "Using cached requests-2.32.3-py3-none-any.whl (64 kB)\n",
            "Using cached certifi-2024.8.30-py3-none-any.whl (167 kB)\n",
            "Downloading urllib3-2.2.2-py3-none-any.whl (121 kB)\n",
            "\u001b[2K   \u001b[90m━━━━━━━━━━━━━━━━━━━━━━━━━━━━━━━━━━━━━━━━\u001b[0m \u001b[32m121.4/121.4 kB\u001b[0m \u001b[31m1.8 MB/s\u001b[0m eta \u001b[36m0:00:00\u001b[0m\n",
            "\u001b[?25hDownloading websockets-13.0.1-cp310-cp310-manylinux_2_5_x86_64.manylinux1_x86_64.manylinux_2_17_x86_64.manylinux2014_x86_64.whl (157 kB)\n",
            "\u001b[2K   \u001b[90m━━━━━━━━━━━━━━━━━━━━━━━━━━━━━━━━━━━━━━━━\u001b[0m \u001b[32m157.3/157.3 kB\u001b[0m \u001b[31m6.8 MB/s\u001b[0m eta \u001b[36m0:00:00\u001b[0m\n",
            "\u001b[?25hDownloading Brotli-1.1.0-cp310-cp310-manylinux_2_5_x86_64.manylinux1_x86_64.manylinux_2_12_x86_64.manylinux2010_x86_64.whl (3.0 MB)\n",
            "\u001b[2K   \u001b[90m━━━━━━━━━━━━━━━━━━━━━━━━━━━━━━━━━━━━━━━━\u001b[0m \u001b[32m3.0/3.0 MB\u001b[0m \u001b[31m22.2 MB/s\u001b[0m eta \u001b[36m0:00:00\u001b[0m\n",
            "\u001b[?25hDownloading mutagen-1.47.0-py3-none-any.whl (194 kB)\n",
            "\u001b[2K   \u001b[90m━━━━━━━━━━━━━━━━━━━━━━━━━━━━━━━━━━━━━━━━\u001b[0m \u001b[32m194.4/194.4 kB\u001b[0m \u001b[31m12.3 MB/s\u001b[0m eta \u001b[36m0:00:00\u001b[0m\n",
            "\u001b[?25hDownloading pycryptodomex-3.20.0-cp35-abi3-manylinux_2_17_x86_64.manylinux2014_x86_64.whl (2.1 MB)\n",
            "\u001b[2K   \u001b[90m━━━━━━━━━━━━━━━━━━━━━━━━━━━━━━━━━━━━━━━━\u001b[0m \u001b[32m2.1/2.1 MB\u001b[0m \u001b[31m58.8 MB/s\u001b[0m eta \u001b[36m0:00:00\u001b[0m\n",
            "\u001b[?25hUsing cached charset_normalizer-3.3.2-cp310-cp310-manylinux_2_17_x86_64.manylinux2014_x86_64.whl (142 kB)\n",
            "Using cached idna-3.8-py3-none-any.whl (66 kB)\n",
            "Building wheels for collected packages: yt-dlp\n",
            "  Building wheel for yt-dlp (pyproject.toml) ... \u001b[?25l\u001b[?25hdone\n",
            "  Created wheel for yt-dlp: filename=yt_dlp-2024.8.6-py3-none-any.whl size=2883112 sha256=f4b8a5aa523b7ef26fd7bc3b0a6a7050c1871ca1cd3624e3df5e1c19ce64ae89\n",
            "  Stored in directory: /tmp/pip-ephem-wheel-cache-pixlbdlx/wheels/4c/91/d1/c5369304e2f7afb660bb6eee093af5a7d3c0ea05a3c1e8c797\n",
            "Successfully built yt-dlp\n",
            "Installing collected packages: brotli, websockets, urllib3, pycryptodomex, mutagen, idna, charset-normalizer, certifi, requests, yt-dlp\n",
            "  Attempting uninstall: urllib3\n",
            "    Found existing installation: urllib3 2.0.7\n",
            "    Uninstalling urllib3-2.0.7:\n",
            "      Successfully uninstalled urllib3-2.0.7\n",
            "  Attempting uninstall: idna\n",
            "    Found existing installation: idna 3.8\n",
            "    Uninstalling idna-3.8:\n",
            "      Successfully uninstalled idna-3.8\n",
            "  Attempting uninstall: charset-normalizer\n",
            "    Found existing installation: charset-normalizer 3.3.2\n",
            "    Uninstalling charset-normalizer-3.3.2:\n",
            "      Successfully uninstalled charset-normalizer-3.3.2\n",
            "  Attempting uninstall: certifi\n",
            "    Found existing installation: certifi 2024.8.30\n",
            "    Uninstalling certifi-2024.8.30:\n",
            "      Successfully uninstalled certifi-2024.8.30\n",
            "  Attempting uninstall: requests\n",
            "    Found existing installation: requests 2.32.3\n",
            "    Uninstalling requests-2.32.3:\n",
            "      Successfully uninstalled requests-2.32.3\n",
            "Successfully installed brotli-1.1.0 certifi-2024.8.30 charset-normalizer-3.3.2 idna-3.8 mutagen-1.47.0 pycryptodomex-3.20.0 requests-2.32.3 urllib3-2.2.2 websockets-13.0.1 yt-dlp-2024.8.6\n"
          ]
        }
      ]
    },
    {
      "cell_type": "code",
      "source": [
        "#Instalacion del download de youtube\n",
        "import os\n",
        "import yt_dlp as youtube_dl\n",
        "def download_ytvid_as_mp3(video_url,name):\n",
        "    #video_url = input(\"enter url of youtube video:\")\n",
        "    video_info = youtube_dl.YoutubeDL().extract_info(url = video_url,download=False)\n",
        "    filename = f\"{name}.mp3\"\n",
        "    options={\n",
        "        'format':'bestaudio/best',\n",
        "        'keepvideo':False,\n",
        "        'outtmpl':filename,\n",
        "    }\n",
        "\n",
        "    with youtube_dl.YoutubeDL(options) as ydl:\n",
        "        ydl.download([video_info['webpage_url']])\n",
        "\n",
        "    print(\"Download complete... {}\".format(filename))"
      ],
      "metadata": {
        "id": "AKx5VuHo9l_z"
      },
      "execution_count": null,
      "outputs": []
    },
    {
      "cell_type": "code",
      "source": [
        "link_= [\"https://youtu.be/_fwyrbmaiAI?si=9L6e4-V8OGo3Jalp\"] #Se selecciona el link de youtube de la canciòn deseada\n",
        "name_ = [\"Ilegales\"]                                        #Nombre de la banda/artista\n",
        "for name,link in zip(name_,link_):\n",
        "    print(name)\n",
        "    download_ytvid_as_mp3(link,name)                        #Se descarga el audio mp3 de la cancion"
      ],
      "metadata": {
        "colab": {
          "base_uri": "https://localhost:8080/"
        },
        "id": "yeUDsAWd9tFL",
        "outputId": "0098aa8f-656b-412b-d92d-a78ff892469d"
      },
      "execution_count": null,
      "outputs": [
        {
          "output_type": "stream",
          "name": "stdout",
          "text": [
            "Ilegales\n",
            "[youtube] Extracting URL: https://youtu.be/_fwyrbmaiAI?si=9L6e4-V8OGo3Jalp\n",
            "[youtube] _fwyrbmaiAI: Downloading webpage\n",
            "[youtube] _fwyrbmaiAI: Downloading ios player API JSON\n",
            "[youtube] _fwyrbmaiAI: Downloading web creator player API JSON\n",
            "[youtube] _fwyrbmaiAI: Downloading m3u8 information\n",
            "[youtube] Extracting URL: https://www.youtube.com/watch?v=_fwyrbmaiAI\n",
            "[youtube] _fwyrbmaiAI: Downloading webpage\n",
            "[youtube] _fwyrbmaiAI: Downloading ios player API JSON\n",
            "[youtube] _fwyrbmaiAI: Downloading web creator player API JSON\n",
            "[youtube] _fwyrbmaiAI: Downloading m3u8 information\n",
            "[info] _fwyrbmaiAI: Downloading 1 format(s): 251\n",
            "[download] Ilegales.mp3 has already been downloaded\n",
            "[download] 100% of    2.33MiB\n",
            "Download complete... Ilegales.mp3\n"
          ]
        }
      ]
    },
    {
      "cell_type": "code",
      "source": [
        "!ffmpeg -y -i Ilegales.mp3 output.wav\n",
        "!pip install soundfile #instalar sondfile"
      ],
      "metadata": {
        "colab": {
          "base_uri": "https://localhost:8080/"
        },
        "id": "YVxQmn059zMK",
        "outputId": "84511dad-3ae3-4940-ede8-8823491d2a79"
      },
      "execution_count": null,
      "outputs": [
        {
          "output_type": "stream",
          "name": "stdout",
          "text": [
            "ffmpeg version 4.4.2-0ubuntu0.22.04.1 Copyright (c) 2000-2021 the FFmpeg developers\n",
            "  built with gcc 11 (Ubuntu 11.2.0-19ubuntu1)\n",
            "  configuration: --prefix=/usr --extra-version=0ubuntu0.22.04.1 --toolchain=hardened --libdir=/usr/lib/x86_64-linux-gnu --incdir=/usr/include/x86_64-linux-gnu --arch=amd64 --enable-gpl --disable-stripping --enable-gnutls --enable-ladspa --enable-libaom --enable-libass --enable-libbluray --enable-libbs2b --enable-libcaca --enable-libcdio --enable-libcodec2 --enable-libdav1d --enable-libflite --enable-libfontconfig --enable-libfreetype --enable-libfribidi --enable-libgme --enable-libgsm --enable-libjack --enable-libmp3lame --enable-libmysofa --enable-libopenjpeg --enable-libopenmpt --enable-libopus --enable-libpulse --enable-librabbitmq --enable-librubberband --enable-libshine --enable-libsnappy --enable-libsoxr --enable-libspeex --enable-libsrt --enable-libssh --enable-libtheora --enable-libtwolame --enable-libvidstab --enable-libvorbis --enable-libvpx --enable-libwebp --enable-libx265 --enable-libxml2 --enable-libxvid --enable-libzimg --enable-libzmq --enable-libzvbi --enable-lv2 --enable-omx --enable-openal --enable-opencl --enable-opengl --enable-sdl2 --enable-pocketsphinx --enable-librsvg --enable-libmfx --enable-libdc1394 --enable-libdrm --enable-libiec61883 --enable-chromaprint --enable-frei0r --enable-libx264 --enable-shared\n",
            "  libavutil      56. 70.100 / 56. 70.100\n",
            "  libavcodec     58.134.100 / 58.134.100\n",
            "  libavformat    58. 76.100 / 58. 76.100\n",
            "  libavdevice    58. 13.100 / 58. 13.100\n",
            "  libavfilter     7.110.100 /  7.110.100\n",
            "  libswscale      5.  9.100 /  5.  9.100\n",
            "  libswresample   3.  9.100 /  3.  9.100\n",
            "  libpostproc    55.  9.100 / 55.  9.100\n",
            "Input #0, matroska,webm, from 'Ilegales.mp3':\n",
            "  Metadata:\n",
            "    encoder         : google/video-file\n",
            "  Duration: 00:02:26.72, start: -0.007000, bitrate: 133 kb/s\n",
            "  Stream #0:0(eng): Audio: opus, 48000 Hz, stereo, fltp (default)\n",
            "Stream mapping:\n",
            "  Stream #0:0 -> #0:0 (opus (native) -> pcm_s16le (native))\n",
            "Press [q] to stop, [?] for help\n",
            "Output #0, wav, to 'output.wav':\n",
            "  Metadata:\n",
            "    ISFT            : Lavf58.76.100\n",
            "  Stream #0:0(eng): Audio: pcm_s16le ([1][0][0][0] / 0x0001), 48000 Hz, stereo, s16, 1536 kb/s (default)\n",
            "    Metadata:\n",
            "      encoder         : Lavc58.134.100 pcm_s16le\n",
            "size=   27508kB time=00:02:26.70 bitrate=1536.1kbits/s speed= 192x    \n",
            "video:0kB audio:27508kB subtitle:0kB other streams:0kB global headers:0kB muxing overhead: 0.000277%\n",
            "Requirement already satisfied: soundfile in /usr/local/lib/python3.10/dist-packages (0.12.1)\n",
            "Requirement already satisfied: cffi>=1.0 in /usr/local/lib/python3.10/dist-packages (from soundfile) (1.17.0)\n",
            "Requirement already satisfied: pycparser in /usr/local/lib/python3.10/dist-packages (from cffi>=1.0->soundfile) (2.22)\n"
          ]
        }
      ]
    },
    {
      "cell_type": "code",
      "execution_count": null,
      "metadata": {
        "id": "_fVxql1w7tSq",
        "colab": {
          "base_uri": "https://localhost:8080/"
        },
        "outputId": "7a5b0e7a-340e-42a9-d659-ad2ae51fd6eb"
      },
      "outputs": [
        {
          "output_type": "stream",
          "name": "stdout",
          "text": [
            "Writing Punto_3.py\n"
          ]
        }
      ],
      "source": [
        "%%writefile Punto_3.py\n",
        "#Codigo del Dashboard\n",
        "import streamlit as st\n",
        "import pandas as pd\n",
        "import numpy as np\n",
        "import os\n",
        "import subprocess\n",
        "import soundfile as sf\n",
        "import matplotlib.pyplot as plt\n",
        "from sklearn.preprocessing import MinMaxScaler\n",
        "from sklearn.manifold import TSNE\n",
        "import yt_dlp as youtube_dl\n",
        "import joblib\n",
        "import matplotlib.pyplot as plt\n",
        "from scipy.fft import fft, fftfreq\n",
        "\n",
        "st.title(\"Punto 3\")\n",
        "\n",
        "nombre_out = \"output.wav\"\n",
        "audio = \"/content/output.wav\"\n",
        "song_duration = st.slider('Segundos de duración:')\n",
        "st.audio(audio, format='audio/wav', start_time=0, end_time=song_duration)\n",
        "x, fs = sf.read(nombre_out)\n",
        "# read speech signal from file\n",
        "print('Frecuencia de muestreo %.2f[Hz]\\naudio %s' % (fs,nombre_out))\n",
        "\n",
        "# Cargar el archivo de audio\n",
        "audio_signal, sampling_rate = sf.read(nombre_out)\n",
        "\n",
        "# Verificar cuántos canales tiene el archivo\n",
        "print(f\"Forma del audio: {audio_signal.shape}\")\n",
        "\n",
        "# Si es estéreo (2 canales), lo convertimos en mono promediando los canales\n",
        "if len(audio_signal.shape) > 1 and audio_signal.shape[1] == 2:\n",
        "    audio_mono = np.mean(audio_signal, axis=1)\n",
        "else:\n",
        "    audio_mono = audio_signal  # Si ya es mono, no hacemos nada\n",
        "\n",
        "# Guardar el archivo de audio en mono\n",
        "sf.write('audio_mono.wav', audio_mono, sampling_rate)\n",
        "\n",
        "audio_mono.shape\n",
        "\n",
        "ti, tf = st.slider('Seleccione el rango de procesamiento',max_value=120,value=(20, 25))\n",
        "\n",
        "xpro = audio_mono.copy() #copiar archivos para procesar\n",
        "#ti = 20 #tiempo incio a procesar seg\n",
        "#tf = 25 #tiempo final a procesar seg\n",
        "xs = xpro[int(ti*fs):int((tf*fs))]\n",
        "\n",
        "from IPython.display import Audio\n",
        "ns = 120 #se reproducen los primeros ns segundos\n",
        "Audio(xs[:int(fs*ns)].T,rate=fs)\n",
        "\n",
        "audio_mono = audio_mono / np.max(np.abs(audio_mono))\n",
        "xs= xs/np.max(np.abs(xs))\n",
        "\n",
        "# Simulación de modulación por amplitud (AM)\n",
        "def am_modulate(audio_signal, carrier_freq, sampling_rate, mod_index):\n",
        "    t = np.arange(len(audio_signal)) / sampling_rate\n",
        "    carrier = np.sin(2 * np.pi * carrier_freq * t)\n",
        "    am_signal = (1 + mod_index * audio_signal) * carrier\n",
        "    return t, carrier, am_signal\n",
        "\n",
        "#Simulación de la modulación AM\n",
        "carrier_freq = 100  #Frecuencia de la portadora\n",
        "mod_index = float(st.number_input(\"Ingrese el indice de modulacion:\",value=10.1))   # Índice de modulación\n",
        "t, carrier, am_signal = am_modulate(audio_mono, carrier_freq, sampling_rate, mod_index)\n",
        "\n",
        "def plot_signal(time, signal, title):\n",
        "    plt.figure(num=1, figsize=(10, 4))\n",
        "    plt.plot(time, signal)\n",
        "    plt.title(title)\n",
        "    plt.xlabel('Tiempo [s]')\n",
        "    plt.ylabel('Amplitud')\n",
        "    plt.grid()\n",
        "    st.pyplot()\n",
        "\n",
        "def plot_frequency(signal, sampling_rate, title):\n",
        "    N = len(signal)\n",
        "    yf = fft(signal)\n",
        "    xf = fftfreq(N, 1 / sampling_rate)[:N // 2]\n",
        "    plt.figure(num=2, figsize=(10, 4))\n",
        "    plt.plot(xf, 2.0 / N * np.abs(yf[:N // 2]))\n",
        "    plt.title(title)\n",
        "    plt.grid()\n",
        "    st.pyplot()\n",
        "\n",
        "st.header(\"Graficas de la señal\")\n",
        "\n",
        "plot_signal(t, audio_mono, \"Señal de Mensaje (Tiempo)\")\n",
        "plot_signal(t, carrier, \"Señal Portadora (Tiempo)\")\n",
        "plot_signal(t, am_signal, \"Señal Modulada AM (Tiempo)\")\n",
        "\n",
        "#Transformada de Fourier para mostrar en frecuencia\n",
        "plot_frequency(audio_mono, sampling_rate, 'Señal de Mensaje (Frecuencia)')\n",
        "plot_frequency(carrier, sampling_rate, 'Señal Portadora (Frecuencia)')\n",
        "plot_frequency(am_signal, sampling_rate, 'Señal Modulada AM (Frecuencia)')\n",
        "\n",
        " #Reproducir los audios\n",
        "st.header(\"Señales resultantes\")\n",
        "play, fin = st.slider('Seleccione el rango de Reproduccion',max_value=120,value=(20, 25))\n",
        "\n",
        "#Señal En Mono\n",
        "st.subheader(\"Señal en Mono\")\n",
        "st.audio(audio_mono, sample_rate=fs, start_time=play, end_time=fin)\n",
        "\n",
        "#Señal Portadora\n",
        "st.subheader(\"Señal Portadora\")\n",
        "st.audio(carrier, sample_rate=fs, start_time=play, end_time=fin)\n",
        "\n",
        "#Señal Modulada\n",
        "st.subheader(\"Señal Modulada\")\n",
        "st.audio(am_signal, sample_rate=fs, start_time=play, end_time=fin)"
      ]
    },
    {
      "cell_type": "code",
      "source": [
        "!streamlit run Punto_3.py &>/content/logs.txt & curl ipv4.icanhazip.com #Password del Dashboard"
      ],
      "metadata": {
        "colab": {
          "base_uri": "https://localhost:8080/"
        },
        "id": "jZ6ukMf4-OzT",
        "outputId": "42d4f5ac-d898-447d-dc22-86665af70943"
      },
      "execution_count": null,
      "outputs": [
        {
          "output_type": "stream",
          "name": "stdout",
          "text": [
            "35.184.105.30\n"
          ]
        }
      ]
    },
    {
      "cell_type": "code",
      "source": [
        "!npx localtunnel --port 8501  #Link del Dashboard"
      ],
      "metadata": {
        "colab": {
          "base_uri": "https://localhost:8080/"
        },
        "id": "33dj-vbH-PIM",
        "outputId": "dd479ca4-18d4-4a23-9d65-7f162ceb7a19"
      },
      "execution_count": null,
      "outputs": [
        {
          "output_type": "stream",
          "name": "stdout",
          "text": [
            "your url is: https://little-colts-hug.loca.lt\n",
            "^C\n"
          ]
        }
      ]
    },
    {
      "cell_type": "code",
      "source": [
        "import streamlit as st\n",
        "import pandas as pd\n",
        "import numpy as np\n",
        "import os\n",
        "import subprocess\n",
        "import soundfile as sf\n",
        "import matplotlib.pyplot as plt\n",
        "from sklearn.preprocessing import MinMaxScaler\n",
        "from sklearn.manifold import TSNE\n",
        "import yt_dlp as youtube_dl\n",
        "import joblib\n",
        "import matplotlib.pyplot as plt\n",
        "from scipy.fft import fft, fftfreq\n",
        "\n",
        "nombre_out = \"output.wav\"\n",
        "audio = \"/content/output.wav\"\n",
        "song_duration = st.slider('Playtime for the song')\n",
        "st.audio(audio, format='audio/wav', start_time=0, end_time=song_duration)\n",
        "x, fs = sf.read(nombre_out)\n",
        "# read speech signal from file\n",
        "print('Frecuencia de muestreo %.2f[Hz]\\naudio %s' % (fs,nombre_out))\n",
        "\n",
        "# Cargar el archivo de audio\n",
        "audio_signal, sampling_rate = sf.read(nombre_out)\n",
        "\n",
        "# Verificar cuántos canales tiene el archivo\n",
        "print(f\"Forma del audio: {audio_signal.shape}\")\n",
        "\n",
        "# Si es estéreo (2 canales), lo convertimos en mono promediando los canales\n",
        "if len(audio_signal.shape) > 1 and audio_signal.shape[1] == 2:\n",
        "    audio_mono = np.mean(audio_signal, axis=1)\n",
        "else:\n",
        "    audio_mono = audio_signal  # Si ya es mono, no hacemos nada\n",
        "\n",
        "# Guardar el archivo de audio en mono\n",
        "sf.write('audio_mono.wav', audio_mono, sampling_rate)\n",
        "\n",
        "audio_mono.shape\n",
        "\n",
        "ti, tf = st.slider('Seleccione el rango de procesamiento',max_value=120,value=(45, 50))\n",
        "\n",
        "xpro = audio_mono.copy() #copiar archivos para procesar\n",
        "#ti = 20 #tiempo incio a procesar seg\n",
        "#tf = 25 #tiempo final a procesar seg\n",
        "xs = xpro[int(ti*fs):int((tf*fs)),:]\n",
        "\n",
        "from IPython.display import Audio\n",
        "ns = 120 #se reproducen los primeros ns segundos\n",
        "Audio(xs[:int(fs*ns)].T,rate=fs)\n",
        "\n",
        "audio_mono = audio_mono / np.max(np.abs(audio_mono))\n",
        "xs= xs/np.max(np.abs(xs))\n",
        "\n",
        "# Simulación de modulación por amplitud (AM)\n",
        "def am_modulate(audio_signal, carrier_freq, sampling_rate, mod_index):\n",
        "    t = np.arange(len(audio_signal)) / sampling_rate\n",
        "    carrier = np.sin(2 * np.pi * carrier_freq * t)\n",
        "    am_signal = (1 + mod_index * audio_signal) * carrier\n",
        "    return t, carrier, am_signal\n",
        "\n",
        "#Simulación de la modulación AM\n",
        "carrier_freq = 100  #Frecuencia de la portadora\n",
        "mod_index = float(st.number_input(\"Ingrese el indice de modulacion:\",value=10.1))   # Índice de modulación\n",
        "t, carrier, am_signal = am_modulate(audio_mono, carrier_freq, sampling_rate, mod_index)\n",
        "\n",
        "def plot_signal(time, signal, title):\n",
        "    plt.figure(figsize=(10, 4))\n",
        "    plt.plot(time, signal)\n",
        "    plt.title(title)\n",
        "    plt.xlabel('Tiempo [s]')\n",
        "    plt.ylabel('Amplitud')\n",
        "    plt.grid()\n",
        "    plt.show()\n",
        "\n",
        "def plot_frequency(signal, sampling_rate, title):\n",
        "    N = len(signal)\n",
        "    yf = fft(signal)\n",
        "    xf = fftfreq(N, 1 / sampling_rate)[:N // 2]\n",
        "    plt.figure(figsize=(10, 4))\n",
        "    plt.plot(xf, 2.0 / N * np.abs(yf[:N // 2]))\n",
        "    plt.title(title)\n",
        "    plt.grid()\n",
        "    plt.show()\n",
        "\n",
        "plot_signal(t, audio_mono, \"Señal de Mensaje (Tiempo)\")\n",
        "plot_signal(t, carrier, \"Señal Portadora (Tiempo)\")\n",
        "plot_signal(t, am_signal, \"Señal Modulada AM (Tiempo)\")\n",
        "\n",
        "#Transformada de Fourier para mostrar en frecuencia\n",
        "plot_frequency(audio_mono, sampling_rate, 'Señal de Mensaje (Frecuencia)')\n",
        "plot_frequency(carrier, sampling_rate, 'Señal Portadora (Frecuencia)')\n",
        "plot_frequency(am_signal, sampling_rate, 'Señal Modulada AM (Frecuencia)')\n",
        "\n",
        " #Reproducir los audios\n",
        " #Señal En Mono\n",
        "st.audio(xs, sample_rate=fs)\n",
        "\n",
        "#Señal Portadora\n",
        "xpro_1 = carrier.copy() #copiar archivos para procesar\n",
        "#ti = 20 #tiempo incio a procesar seg\n",
        "#tf = 25 #tiempo final a procesar seg\n",
        "xs_1 = xpro_1[int(ti*fs):int((tf*fs))]\n",
        "st.audio(xs_1, sample_rate=fs)\n",
        "\n",
        "#Señal Modulada\n",
        "xpro_2= am_signal.copy() #copiar archivos para procesar\n",
        "#ti = 20 #tiempo incio a procesar seg\n",
        "#tf = 25 #tiempo final a procesar seg\n",
        "xs_2 = xpro_2[int(ti*fs):int((tf*fs))]\n",
        "st.audio(xs_2, sample_rate=fs)"
      ],
      "metadata": {
        "colab": {
          "base_uri": "https://localhost:8080/",
          "height": 595
        },
        "id": "F9W2lejkE-LI",
        "outputId": "e253abb2-f8ba-4388-8180-e4eb07d9733b"
      },
      "execution_count": null,
      "outputs": [
        {
          "output_type": "stream",
          "name": "stderr",
          "text": [
            "2024-09-08 20:24:17.408 WARNING streamlit.runtime.scriptrunner_utils.script_run_context: Thread 'MainThread': missing ScriptRunContext! This warning can be ignored when running in bare mode.\n",
            "2024-09-08 20:24:17.414 WARNING streamlit.runtime.scriptrunner_utils.script_run_context: Thread 'MainThread': missing ScriptRunContext! This warning can be ignored when running in bare mode.\n",
            "2024-09-08 20:24:17.416 WARNING streamlit.runtime.scriptrunner_utils.script_run_context: Thread 'MainThread': missing ScriptRunContext! This warning can be ignored when running in bare mode.\n",
            "2024-09-08 20:24:17.418 WARNING streamlit.runtime.state.session_state_proxy: Session state does not function when running a script without `streamlit run`\n",
            "2024-09-08 20:24:17.421 WARNING streamlit.runtime.scriptrunner_utils.script_run_context: Thread 'MainThread': missing ScriptRunContext! This warning can be ignored when running in bare mode.\n",
            "2024-09-08 20:24:17.534 \n",
            "  \u001b[33m\u001b[1mWarning:\u001b[0m to view this Streamlit app on a browser, run it with the following\n",
            "  command:\n",
            "\n",
            "    streamlit run /usr/local/lib/python3.10/dist-packages/colab_kernel_launcher.py [ARGUMENTS]\n",
            "2024-09-08 20:24:17.537 Thread 'MainThread': missing ScriptRunContext! This warning can be ignored when running in bare mode.\n",
            "2024-09-08 20:24:17.542 Thread 'MainThread': missing ScriptRunContext! This warning can be ignored when running in bare mode.\n",
            "2024-09-08 20:24:17.547 Thread 'MainThread': missing ScriptRunContext! This warning can be ignored when running in bare mode.\n",
            "2024-09-08 20:24:17.549 Thread 'MainThread': missing ScriptRunContext! This warning can be ignored when running in bare mode.\n"
          ]
        },
        {
          "output_type": "stream",
          "name": "stdout",
          "text": [
            "Frecuencia de muestreo 48000.00[Hz]\n",
            "audio output.wav\n",
            "Forma del audio: (7042097, 2)\n"
          ]
        },
        {
          "output_type": "stream",
          "name": "stderr",
          "text": [
            "2024-09-08 20:24:18.020 Thread 'MainThread': missing ScriptRunContext! This warning can be ignored when running in bare mode.\n",
            "2024-09-08 20:24:18.021 Thread 'MainThread': missing ScriptRunContext! This warning can be ignored when running in bare mode.\n",
            "2024-09-08 20:24:18.026 Thread 'MainThread': missing ScriptRunContext! This warning can be ignored when running in bare mode.\n",
            "2024-09-08 20:24:18.030 Thread 'MainThread': missing ScriptRunContext! This warning can be ignored when running in bare mode.\n"
          ]
        },
        {
          "output_type": "error",
          "ename": "IndexError",
          "evalue": "too many indices for array: array is 1-dimensional, but 2 were indexed",
          "traceback": [
            "\u001b[0;31m---------------------------------------------------------------------------\u001b[0m",
            "\u001b[0;31mIndexError\u001b[0m                                Traceback (most recent call last)",
            "\u001b[0;32m<ipython-input-12-60a08f1e19ed>\u001b[0m in \u001b[0;36m<cell line: 45>\u001b[0;34m()\u001b[0m\n\u001b[1;32m     43\u001b[0m \u001b[0;31m#ti = 20 #tiempo incio a procesar seg\u001b[0m\u001b[0;34m\u001b[0m\u001b[0;34m\u001b[0m\u001b[0m\n\u001b[1;32m     44\u001b[0m \u001b[0;31m#tf = 25 #tiempo final a procesar seg\u001b[0m\u001b[0;34m\u001b[0m\u001b[0;34m\u001b[0m\u001b[0m\n\u001b[0;32m---> 45\u001b[0;31m \u001b[0mxs\u001b[0m \u001b[0;34m=\u001b[0m \u001b[0mxpro\u001b[0m\u001b[0;34m[\u001b[0m\u001b[0mint\u001b[0m\u001b[0;34m(\u001b[0m\u001b[0mti\u001b[0m\u001b[0;34m*\u001b[0m\u001b[0mfs\u001b[0m\u001b[0;34m)\u001b[0m\u001b[0;34m:\u001b[0m\u001b[0mint\u001b[0m\u001b[0;34m(\u001b[0m\u001b[0;34m(\u001b[0m\u001b[0mtf\u001b[0m\u001b[0;34m*\u001b[0m\u001b[0mfs\u001b[0m\u001b[0;34m)\u001b[0m\u001b[0;34m)\u001b[0m\u001b[0;34m,\u001b[0m\u001b[0;34m:\u001b[0m\u001b[0;34m]\u001b[0m\u001b[0;34m\u001b[0m\u001b[0;34m\u001b[0m\u001b[0m\n\u001b[0m\u001b[1;32m     46\u001b[0m \u001b[0;34m\u001b[0m\u001b[0m\n\u001b[1;32m     47\u001b[0m \u001b[0;32mfrom\u001b[0m \u001b[0mIPython\u001b[0m\u001b[0;34m.\u001b[0m\u001b[0mdisplay\u001b[0m \u001b[0;32mimport\u001b[0m \u001b[0mAudio\u001b[0m\u001b[0;34m\u001b[0m\u001b[0;34m\u001b[0m\u001b[0m\n",
            "\u001b[0;31mIndexError\u001b[0m: too many indices for array: array is 1-dimensional, but 2 were indexed"
          ]
        }
      ]
    }
  ]
}